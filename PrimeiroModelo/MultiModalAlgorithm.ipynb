{
  "nbformat": 4,
  "nbformat_minor": 0,
  "metadata": {
    "colab": {
      "provenance": [],
      "authorship_tag": "ABX9TyPe+Qk6MVb5pykGJKfmYPMe",
      "include_colab_link": true
    },
    "kernelspec": {
      "name": "python3",
      "display_name": "Python 3"
    },
    "language_info": {
      "name": "python"
    }
  },
  "cells": [
    {
      "cell_type": "markdown",
      "metadata": {
        "id": "view-in-github",
        "colab_type": "text"
      },
      "source": [
        "<a href=\"https://colab.research.google.com/github/deiveleal/multi_modal_machine_learning/blob/main/PrimeiroModelo/MultiModalAlgorithm.ipynb\" target=\"_parent\"><img src=\"https://colab.research.google.com/assets/colab-badge.svg\" alt=\"Open In Colab\"/></a>"
      ]
    },
    {
      "cell_type": "markdown",
      "source": [
        "#### Multimodal Algorithm"
      ],
      "metadata": {
        "id": "tTvLGOPlTkxY"
      }
    },
    {
      "cell_type": "markdown",
      "source": [
        "Data &#8594; Pre-process &#8594; Separate Training &#8594; Fusion &#8594; Metric"
      ],
      "metadata": {
        "id": "ZhOfrINSVi4a"
      }
    },
    {
      "cell_type": "code",
      "source": [
        "# prompt: create a code that permit extract characteristcs from images\n",
        "\n",
        "import cv2\n",
        "\n",
        "def extract_characteristics(image_path):\n",
        "  # Load the image\n",
        "  image = cv2.imread(image_path)\n",
        "\n",
        "  # Convert the image to grayscale\n",
        "  gray_image = cv2.cvtColor(image, cv2.COLOR_BGR2GRAY)\n",
        "\n",
        "  # Extract the edges of the image\n",
        "  edges = cv2.Canny(gray_image, 100, 200)\n",
        "\n",
        "  # Extract the contours of the image\n",
        "  contours, _ = cv2.findContours(edges, cv2.RETR_EXTERNAL, cv2.CHAIN_APPROX_SIMPLE)\n",
        "\n",
        "  # Extract the moments of the image\n",
        "  moments = [cv2.moments(contour) for contour in contours]\n",
        "\n",
        "  # Extract the Hu moments of the image\n",
        "  hu_moments = [cv2.HuMoments(moment) for moment in moments]\n",
        "\n",
        "  # Return the characteristics\n",
        "  return hu_moments\n"
      ],
      "metadata": {
        "id": "GN05EC1VTqQ-"
      },
      "execution_count": null,
      "outputs": []
    }
  ]
}