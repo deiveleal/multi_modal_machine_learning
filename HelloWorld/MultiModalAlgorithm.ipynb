{
  "cells": [
    {
      "cell_type": "markdown",
      "metadata": {
        "colab_type": "text",
        "id": "view-in-github"
      },
      "source": [
        "<a href=\"https://colab.research.google.com/github/deiveleal/multi_modal_machine_learning/blob/main/PrimeiroModelo/MultiModalAlgorithm.ipynb\" target=\"_parent\"><img src=\"https://colab.research.google.com/assets/colab-badge.svg\" alt=\"Open In Colab\"/></a>"
      ]
    },
    {
      "cell_type": "markdown",
      "metadata": {
        "id": "tTvLGOPlTkxY"
      },
      "source": [
        "#### Multimodal Algorithm"
      ]
    },
    {
      "cell_type": "markdown",
      "metadata": {
        "id": "ZhOfrINSVi4a"
      },
      "source": [
        "Data &#8594; Pre-process &#8594; Separate Training &#8594; Fusion &#8594; Metric"
      ]
    },
    {
      "cell_type": "markdown",
      "metadata": {},
      "source": [
        "### Hello world (Iris)"
      ]
    },
    {
      "cell_type": "markdown",
      "metadata": {},
      "source": [
        "### Processa imagem (cria um vetor com a imagem)"
      ]
    },
    {
      "cell_type": "code",
      "execution_count": 34,
      "metadata": {},
      "outputs": [],
      "source": [
        "import os\n",
        "\n",
        "import numpy as np\n",
        "from sklearn import preprocessing\n",
        "from sklearn.cluster import KMeans\n",
        "from PIL import Image\n",
        "import cv2\n",
        "import pandas as pd\n",
        "import tensorflow as tf\n",
        "from sklearn.preprocessing import MinMaxScaler\n",
        "\n",
        "\n",
        "# Alterar as opções de impressão\n",
        "# np.set_printoptions(threshold=np.inf)"
      ]
    },
    {
      "cell_type": "code",
      "execution_count": 35,
      "metadata": {},
      "outputs": [],
      "source": [
        "def normalize_features(features):\n",
        "    scaler = MinMaxScaler()\n",
        "    normalized_features = scaler.fit_transform(features)\n",
        "    return pd.DataFrame(normalized_features, columns=features.columns, index=features.index)\n"
      ]
    },
    {
      "cell_type": "code",
      "execution_count": 2,
      "metadata": {},
      "outputs": [],
      "source": [
        "def vetorizar_imagem(caminho_imagem):\n",
        "    # Ler a imagem\n",
        "    imagem = cv2.imread(caminho_imagem)\n",
        "\n",
        "    # Converter a imagem em um vetor unidimensional\n",
        "    vetor_imagem = imagem.flatten()\n",
        "\n",
        "    return vetor_imagem"
      ]
    },
    {
      "cell_type": "code",
      "execution_count": 3,
      "metadata": {},
      "outputs": [],
      "source": [
        "def vetorizar_imagens(diretorio):\n",
        "    vetor_imagens = {}\n",
        "    for root, dirs, files in os.walk(diretorio):\n",
        "        for filename in files:\n",
        "            if filename.endswith(\".jpg\") or filename.endswith(\".png\"):\n",
        "                caminho_imagem = os.path.join(root, filename)\n",
        "                imagem = cv2.imread(caminho_imagem, cv2.IMREAD_GRAYSCALE)\n",
        "                vetor_imagem = imagem.flatten()\n",
        "                file_name = filename.split('.')[0]\n",
        "                vetor_imagens[file_name] = np.array(vetor_imagem)\n",
        "    return vetor_imagens"
      ]
    },
    {
      "cell_type": "code",
      "execution_count": 4,
      "metadata": {},
      "outputs": [],
      "source": [
        "directory = 'sample/iris/train'\n",
        "vetor_imagens = vetorizar_imagens(directory)"
      ]
    },
    {
      "cell_type": "code",
      "execution_count": 36,
      "metadata": {},
      "outputs": [],
      "source": [
        "def prepara_dados_vetor(vetor_imagens):\n",
        "    # Converter o dicionário em DataFrame\n",
        "    df_imagens = pd.DataFrame.from_dict(vetor_imagens, orient='index')\n",
        "\n",
        "    # Converter o DataFrame em um array numpy\n",
        "    vetor_imagens_np = df_imagens.to_numpy()\n",
        "    return vetor_imagens_np\n",
        "\n",
        "def treinar_keras_imagens(vetor_imagens_np):\n",
        "    # Modelo neural para características de imagem\n",
        "    vetor_imagens_input = tf.keras.Input(shape=(vetor_imagens_np.shape[1],))\n",
        "    y = tf.keras.layers.Dense(64, activation=\"relu\")(vetor_imagens_input)\n",
        "    y = tf.keras.layers.Dense(32, activation=\"relu\")(y)\n",
        "    vetor_imagens_output = tf.keras.layers.Dense(3, activation=\"softmax\")(y)\n",
        "    vetor_imagens_model = tf.keras.Model(vetor_imagens_input, vetor_imagens_output)\n",
        "    return vetor_imagens_model, vetor_imagens_input, vetor_imagens_output"
      ]
    },
    {
      "cell_type": "code",
      "execution_count": 37,
      "metadata": {},
      "outputs": [],
      "source": [
        "vetor_imagens_np = prepara_dados_vetor(vetor_imagens)\n",
        "vetor_imagens_model, vetor_imagens_input, vetor_imagens_output = treinar_keras_imagens(vetor_imagens_np=vetor_imagens_np)"
      ]
    },
    {
      "cell_type": "code",
      "execution_count": 40,
      "metadata": {},
      "outputs": [
        {
          "data": {
            "text/html": [
              "<div>\n",
              "<style scoped>\n",
              "    .dataframe tbody tr th:only-of-type {\n",
              "        vertical-align: middle;\n",
              "    }\n",
              "\n",
              "    .dataframe tbody tr th {\n",
              "        vertical-align: top;\n",
              "    }\n",
              "\n",
              "    .dataframe thead th {\n",
              "        text-align: right;\n",
              "    }\n",
              "</style>\n",
              "<table border=\"1\" class=\"dataframe\">\n",
              "  <thead>\n",
              "    <tr style=\"text-align: right;\">\n",
              "      <th></th>\n",
              "      <th>nome_arquivo</th>\n",
              "      <th>areas</th>\n",
              "      <th>perimetros</th>\n",
              "      <th>convexidades</th>\n",
              "      <th>classe</th>\n",
              "      <th>cor_r</th>\n",
              "      <th>cor_g</th>\n",
              "      <th>cor_b</th>\n",
              "      <th>geral</th>\n",
              "    </tr>\n",
              "  </thead>\n",
              "  <tbody>\n",
              "    <tr>\n",
              "      <th>0</th>\n",
              "      <td>iris_setosa_1</td>\n",
              "      <td>197.052632</td>\n",
              "      <td>52.762603</td>\n",
              "      <td>0.306671</td>\n",
              "      <td>setosa</td>\n",
              "      <td>12.999487</td>\n",
              "      <td>21.248263</td>\n",
              "      <td>17.331150</td>\n",
              "      <td>[197.05263158  52.76260295   0.30667115  12.99...</td>\n",
              "    </tr>\n",
              "    <tr>\n",
              "      <th>1</th>\n",
              "      <td>iris_setosa_10</td>\n",
              "      <td>34.419453</td>\n",
              "      <td>16.648390</td>\n",
              "      <td>0.243514</td>\n",
              "      <td>setosa</td>\n",
              "      <td>88.672619</td>\n",
              "      <td>101.446085</td>\n",
              "      <td>98.016598</td>\n",
              "      <td>[ 34.41945289  16.64838998   0.24351401  88.67...</td>\n",
              "    </tr>\n",
              "    <tr>\n",
              "      <th>2</th>\n",
              "      <td>iris_setosa_11</td>\n",
              "      <td>1036.196970</td>\n",
              "      <td>98.229666</td>\n",
              "      <td>0.426195</td>\n",
              "      <td>setosa</td>\n",
              "      <td>41.932528</td>\n",
              "      <td>106.137651</td>\n",
              "      <td>5.576583</td>\n",
              "      <td>[1.03619697e+03 9.82296660e+01 4.26194642e-01 ...</td>\n",
              "    </tr>\n",
              "  </tbody>\n",
              "</table>\n",
              "</div>"
            ],
            "text/plain": [
              "     nome_arquivo        areas  perimetros  convexidades  classe      cor_r  \\\n",
              "0   iris_setosa_1   197.052632   52.762603      0.306671  setosa  12.999487   \n",
              "1  iris_setosa_10    34.419453   16.648390      0.243514  setosa  88.672619   \n",
              "2  iris_setosa_11  1036.196970   98.229666      0.426195  setosa  41.932528   \n",
              "\n",
              "        cor_g      cor_b                                              geral  \n",
              "0   21.248263  17.331150  [197.05263158  52.76260295   0.30667115  12.99...  \n",
              "1  101.446085  98.016598  [ 34.41945289  16.64838998   0.24351401  88.67...  \n",
              "2  106.137651   5.576583  [1.03619697e+03 9.82296660e+01 4.26194642e-01 ...  "
            ]
          },
          "execution_count": 40,
          "metadata": {},
          "output_type": "execute_result"
        }
      ],
      "source": [
        "df_iris_train = pd.read_csv('sample/iris/iris_train.csv')\n",
        "df_iris_train.head(3)"
      ]
    },
    {
      "cell_type": "code",
      "execution_count": 41,
      "metadata": {},
      "outputs": [],
      "source": [
        "def load_data(df, columns):\n",
        "    features = df.drop(columns, axis=1)\n",
        "    features = normalize_features(features)\n",
        "    features = features.to_numpy()\n",
        "    return features"
      ]
    },
    {
      "cell_type": "code",
      "execution_count": 42,
      "metadata": {},
      "outputs": [],
      "source": [
        "features_np = load_data(df_iris_train, [\"nome_arquivo\", \"classe\", \"geral\"])"
      ]
    },
    {
      "cell_type": "code",
      "execution_count": 43,
      "metadata": {},
      "outputs": [],
      "source": [
        "# Modelo neural para características de imagem\n",
        "def treina_feature(features_np):\n",
        "    feature_input = tf.keras.Input(shape=(features_np.shape[1],))\n",
        "    y = tf.keras.layers.Dense(64, activation=\"relu\")(feature_input)\n",
        "    y = tf.keras.layers.Dense(32, activation=\"relu\")(y)\n",
        "    feature_output = tf.keras.layers.Dense(3, activation=\"softmax\")(y)\n",
        "    feature_model = tf.keras.Model(feature_input, feature_output)\n",
        "    return feature_model, feature_input, feature_output"
      ]
    },
    {
      "cell_type": "code",
      "execution_count": 45,
      "metadata": {},
      "outputs": [],
      "source": [
        "features_np = load_data(df_iris_train, [\"nome_arquivo\", \"classe\", \"geral\"])\n",
        "feature_model, feature_input, feature_output = treina_feature(features_np=features_np)"
      ]
    },
    {
      "cell_type": "code",
      "execution_count": 46,
      "metadata": {},
      "outputs": [],
      "source": [
        "\n",
        "# Fusão precoce\n",
        "combined_input = tf.keras.layers.concatenate([vetor_imagens_model.output, feature_model.output])\n",
        "z = tf.keras.layers.Dense(64, activation=\"relu\")(combined_input)\n",
        "z = tf.keras.layers.Dense(32, activation=\"relu\")(z)\n",
        "combined_output = tf.keras.layers.Dense(3, activation=\"softmax\")(z)\n"
      ]
    },
    {
      "cell_type": "code",
      "execution_count": 47,
      "metadata": {},
      "outputs": [
        {
          "name": "stdout",
          "output_type": "stream",
          "text": [
            "Combined Input: {} <KerasTensor shape=(None, 6), dtype=float32, sparse=False, name=keras_tensor_28>\n"
          ]
        }
      ],
      "source": [
        "print(\"Combined Input: {}\", combined_input)"
      ]
    },
    {
      "cell_type": "code",
      "execution_count": 48,
      "metadata": {},
      "outputs": [],
      "source": [
        "\n",
        "# Modelo multimodal\n",
        "multimodal_model = tf.keras.Model(inputs=[vetor_imagens_model.input, feature_model.input], outputs=combined_output)"
      ]
    },
    {
      "cell_type": "code",
      "execution_count": 49,
      "metadata": {},
      "outputs": [],
      "source": [
        "# Compilar o modelo\n",
        "multimodal_model.compile(optimizer='adam', loss='categorical_crossentropy', metrics=['accuracy'])"
      ]
    },
    {
      "cell_type": "code",
      "execution_count": 59,
      "metadata": {},
      "outputs": [],
      "source": [
        "df_test_raw = pd.read_csv(\"sample/iris/iris_test.csv\")\n",
        "vetor_imagens_raw_test = vetorizar_imagens(\"sample/iris/test\")"
      ]
    },
    {
      "cell_type": "code",
      "execution_count": null,
      "metadata": {},
      "outputs": [],
      "source": [
        "vetor_imagens_raw_test"
      ]
    },
    {
      "cell_type": "code",
      "execution_count": 52,
      "metadata": {},
      "outputs": [],
      "source": [
        "vetor_imagens_np_test = prepara_dados_vetor(vetor_imagens_raw_test)\n",
        "vetor_imagens_model_test, vetor_imagens_input_test, vetor_imagens_output_test = treinar_keras_imagens(vetor_imagens_np=vetor_imagens_np_test)"
      ]
    },
    {
      "cell_type": "code",
      "execution_count": 53,
      "metadata": {},
      "outputs": [],
      "source": [
        "df_iris_test = pd.read_csv('sample/iris/iris_test.csv')"
      ]
    },
    {
      "cell_type": "code",
      "execution_count": 62,
      "metadata": {},
      "outputs": [
        {
          "name": "stdout",
          "output_type": "stream",
          "text": [
            "<class 'pandas.core.frame.DataFrame'>\n",
            "RangeIndex: 84 entries, 0 to 83\n",
            "Data columns (total 9 columns):\n",
            " #   Column        Non-Null Count  Dtype  \n",
            "---  ------        --------------  -----  \n",
            " 0   nome_arquivo  84 non-null     object \n",
            " 1   areas         84 non-null     float64\n",
            " 2   perimetros    84 non-null     float64\n",
            " 3   convexidades  84 non-null     float64\n",
            " 4   classe        84 non-null     object \n",
            " 5   cor_r         84 non-null     float64\n",
            " 6   cor_g         84 non-null     float64\n",
            " 7   cor_b         84 non-null     float64\n",
            " 8   geral         84 non-null     object \n",
            "dtypes: float64(6), object(3)\n",
            "memory usage: 6.0+ KB\n"
          ]
        }
      ],
      "source": [
        "df_iris_test.info()"
      ]
    },
    {
      "cell_type": "code",
      "execution_count": 54,
      "metadata": {},
      "outputs": [
        {
          "data": {
            "text/html": [
              "<div>\n",
              "<style scoped>\n",
              "    .dataframe tbody tr th:only-of-type {\n",
              "        vertical-align: middle;\n",
              "    }\n",
              "\n",
              "    .dataframe tbody tr th {\n",
              "        vertical-align: top;\n",
              "    }\n",
              "\n",
              "    .dataframe thead th {\n",
              "        text-align: right;\n",
              "    }\n",
              "</style>\n",
              "<table border=\"1\" class=\"dataframe\">\n",
              "  <thead>\n",
              "    <tr style=\"text-align: right;\">\n",
              "      <th></th>\n",
              "      <th>nome_arquivo</th>\n",
              "      <th>areas</th>\n",
              "      <th>perimetros</th>\n",
              "      <th>convexidades</th>\n",
              "      <th>classe</th>\n",
              "      <th>cor_r</th>\n",
              "      <th>cor_g</th>\n",
              "      <th>cor_b</th>\n",
              "      <th>geral</th>\n",
              "    </tr>\n",
              "  </thead>\n",
              "  <tbody>\n",
              "    <tr>\n",
              "      <th>0</th>\n",
              "      <td>iris_setosa_55</td>\n",
              "      <td>171.927885</td>\n",
              "      <td>40.850386</td>\n",
              "      <td>0.242437</td>\n",
              "      <td>setosa</td>\n",
              "      <td>23.383403</td>\n",
              "      <td>86.727547</td>\n",
              "      <td>16.235557</td>\n",
              "      <td>[171.92788462  40.85038598   0.24243655  23.38...</td>\n",
              "    </tr>\n",
              "    <tr>\n",
              "      <th>1</th>\n",
              "      <td>iris_setosa_56</td>\n",
              "      <td>116.768817</td>\n",
              "      <td>44.329692</td>\n",
              "      <td>0.279369</td>\n",
              "      <td>setosa</td>\n",
              "      <td>65.959971</td>\n",
              "      <td>113.949199</td>\n",
              "      <td>27.027802</td>\n",
              "      <td>[116.7688172   44.32969207   0.27936911  65.95...</td>\n",
              "    </tr>\n",
              "    <tr>\n",
              "      <th>2</th>\n",
              "      <td>iris_setosa_57</td>\n",
              "      <td>1147.882353</td>\n",
              "      <td>76.525180</td>\n",
              "      <td>0.162317</td>\n",
              "      <td>setosa</td>\n",
              "      <td>135.790702</td>\n",
              "      <td>163.820702</td>\n",
              "      <td>110.795965</td>\n",
              "      <td>[1.14788235e+03 7.65251797e+01 1.62317109e-01 ...</td>\n",
              "    </tr>\n",
              "  </tbody>\n",
              "</table>\n",
              "</div>"
            ],
            "text/plain": [
              "     nome_arquivo        areas  perimetros  convexidades  classe       cor_r  \\\n",
              "0  iris_setosa_55   171.927885   40.850386      0.242437  setosa   23.383403   \n",
              "1  iris_setosa_56   116.768817   44.329692      0.279369  setosa   65.959971   \n",
              "2  iris_setosa_57  1147.882353   76.525180      0.162317  setosa  135.790702   \n",
              "\n",
              "        cor_g       cor_b                                              geral  \n",
              "0   86.727547   16.235557  [171.92788462  40.85038598   0.24243655  23.38...  \n",
              "1  113.949199   27.027802  [116.7688172   44.32969207   0.27936911  65.95...  \n",
              "2  163.820702  110.795965  [1.14788235e+03 7.65251797e+01 1.62317109e-01 ...  "
            ]
          },
          "execution_count": 54,
          "metadata": {},
          "output_type": "execute_result"
        }
      ],
      "source": [
        "df_iris_test.head(3)"
      ]
    },
    {
      "cell_type": "code",
      "execution_count": 73,
      "metadata": {},
      "outputs": [],
      "source": [
        "features_np_test = load_data(df_iris_test, [\"nome_arquivo\", \"classe\", \"geral\"])\n",
        "feature_model_test, feature_input_test, feature_output_test = treina_feature(features_np=features_np_test)"
      ]
    },
    {
      "cell_type": "code",
      "execution_count": 75,
      "metadata": {},
      "outputs": [
        {
          "name": "stdout",
          "output_type": "stream",
          "text": [
            "\u001b[1m3/3\u001b[0m \u001b[32m━━━━━━━━━━━━━━━━━━━━\u001b[0m\u001b[37m\u001b[0m \u001b[1m0s\u001b[0m 45ms/step\n"
          ]
        }
      ],
      "source": [
        "previsoes = multimodal_model.predict([vetor_imagens_np_test, features_np_test])"
      ]
    },
    {
      "cell_type": "code",
      "execution_count": 76,
      "metadata": {},
      "outputs": [],
      "source": [
        "classes_previstas = np.argmax(previsoes, axis=1)"
      ]
    },
    {
      "cell_type": "code",
      "execution_count": 77,
      "metadata": {},
      "outputs": [
        {
          "data": {
            "text/plain": [
              "array([0, 0, 0, 0, 0, 0, 0, 0, 0, 0, 0, 0, 0, 0, 0, 0, 0, 0, 0, 0, 0, 0,\n",
              "       0, 0, 0, 0, 0, 0, 0, 0, 0, 0, 0, 0, 0, 0, 0, 0, 0, 0, 0, 0, 0, 0,\n",
              "       0, 0, 0, 0, 0, 0, 0, 0, 0, 2, 0, 0, 0, 0, 0, 0, 0, 0, 0, 0, 0, 0,\n",
              "       0, 0, 0, 0, 0, 0, 0, 0, 0, 0, 0, 0, 0, 0, 0, 0, 0, 0])"
            ]
          },
          "execution_count": 77,
          "metadata": {},
          "output_type": "execute_result"
        }
      ],
      "source": [
        "classes_previstas"
      ]
    }
  ],
  "metadata": {
    "colab": {
      "authorship_tag": "ABX9TyPe+Qk6MVb5pykGJKfmYPMe",
      "include_colab_link": true,
      "provenance": []
    },
    "kernelspec": {
      "display_name": "Python 3",
      "name": "python3"
    },
    "language_info": {
      "codemirror_mode": {
        "name": "ipython",
        "version": 3
      },
      "file_extension": ".py",
      "mimetype": "text/x-python",
      "name": "python",
      "nbconvert_exporter": "python",
      "pygments_lexer": "ipython3",
      "version": "3.12.2"
    }
  },
  "nbformat": 4,
  "nbformat_minor": 0
}
